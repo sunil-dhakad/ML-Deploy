{
  "nbformat": 4,
  "nbformat_minor": 0,
  "metadata": {
    "colab": {
      "name": "oops Atm code.ipynb",
      "provenance": [],
      "authorship_tag": "ABX9TyPx7h+TEgjoeSU8t9ZiwZlj",
      "include_colab_link": true
    },
    "kernelspec": {
      "name": "python3",
      "display_name": "Python 3"
    },
    "language_info": {
      "name": "python"
    }
  },
  "cells": [
    {
      "cell_type": "markdown",
      "metadata": {
        "id": "view-in-github",
        "colab_type": "text"
      },
      "source": [
        "<a href=\"https://colab.research.google.com/github/sunil-dhakad/ML-Deploy/blob/main/oops_Atm_code.ipynb\" target=\"_parent\"><img src=\"https://colab.research.google.com/assets/colab-badge.svg\" alt=\"Open In Colab\"/></a>"
      ]
    },
    {
      "cell_type": "code",
      "execution_count": 37,
      "metadata": {
        "id": "dTchuGIeonik"
      },
      "outputs": [],
      "source": [
        "class Atm:\n",
        "\n",
        "    def __init__(self):\n",
        "      print('helloi')\n",
        "\n",
        "      self.pin=''\n",
        "      self.balance=0\n",
        "\n",
        "\n",
        "      self.menu()\n",
        "\n",
        "\n",
        "    def menu(self):\n",
        "        user_input=input('''\n",
        "                     hello, how would you like to proceed\n",
        "                     1.Enter 1 to creat p[in\n",
        "                     2.Enter 2 to deposit\n",
        "                     3.Enter 3 to withdraw\n",
        "                     4.Enter 4 to check balance\n",
        "                     5.Enter 5 to exiot\n",
        "\n",
        "            \n",
        "\n",
        "        ''')\n",
        "        if user_input=='1':\n",
        "          self.create_pin()\n",
        "        elif user_input=='2':\n",
        "          self.withdraw()\n",
        "        elif user_input=='3':\n",
        "          self.deposit()\n",
        "        elif user_input=='4':\n",
        "          self.check_balance()\n",
        "        else:\n",
        "          print('bye')\n",
        "\n",
        "\n",
        "    def create_pin(self):\n",
        "        self.pin=input('enter your pin')\n",
        "        print('pin set successfull')\n",
        "\n",
        "    def deposit(self):\n",
        "        temp=int(input('enter your pin'))\n",
        "        if temp==self.pin:\n",
        "          amount=int(input('enter the amount'))\n",
        "          self.balance=self.balance + amountprint('deposit successfull')\n",
        "        else:\n",
        "          print('pin not mach')\n",
        "    def withdraw(self):\n",
        "        temp=int(input('enter pin'))\n",
        "        if self.pin==temp:\n",
        "          drout=int(input('enter th amount'))\n",
        "          if self.balance>drout:\n",
        "            self.balance=self.balance-drout\n",
        "            print('withdraw successfull')\n",
        "          else:\n",
        "            print('not enough balance')\n",
        "        else:\n",
        "          print('wrong pin')\n",
        "\n",
        "    def check_balance(self):\n",
        "        temp=int(input('enter pin'))\n",
        "        if temp==self.pin:\n",
        "          print(self.balance)\n",
        "        else:\n",
        "          print('invalid pin')\n",
        "\n",
        "          \n",
        "\n"
      ]
    },
    {
      "cell_type": "code",
      "source": [
        "\n",
        "sbi=Atm()\n",
        "sbi.deposit()"
      ],
      "metadata": {
        "colab": {
          "base_uri": "https://localhost:8080/"
        },
        "outputId": "d24a70f7-30c2-4cc5-90fd-717a18235163",
        "id": "Q4uuoPCm-Ke6"
      },
      "execution_count": 38,
      "outputs": [
        {
          "output_type": "stream",
          "name": "stdout",
          "text": [
            "helloi\n",
            "\n",
            "                     hello, how would you like to proceed\n",
            "                     1.Enter 1 to creat p[in\n",
            "                     2.Enter 2 to deposit\n",
            "                     3.Enter 3 to withdraw\n",
            "                     4.Enter 4 to check balance\n",
            "                     5.Enter 5 to exiot\n",
            "\n",
            "            \n",
            "\n",
            "        1\n",
            "enter your pin8520\n",
            "pin set successfull\n",
            "enter your pin8520\n",
            "pin not mach\n"
          ]
        }
      ]
    },
    {
      "cell_type": "code",
      "source": [
        ""
      ],
      "metadata": {
        "id": "dIc4EfpKsRQz"
      },
      "execution_count": null,
      "outputs": []
    },
    {
      "cell_type": "code",
      "source": [
        ""
      ],
      "metadata": {
        "id": "CYtt_18BZxb4"
      },
      "execution_count": null,
      "outputs": []
    },
    {
      "cell_type": "code",
      "source": [
        ""
      ],
      "metadata": {
        "id": "HyOPCtqrZxWn"
      },
      "execution_count": null,
      "outputs": []
    },
    {
      "cell_type": "code",
      "source": [
        ""
      ],
      "metadata": {
        "id": "_JSp8BArZxT5"
      },
      "execution_count": null,
      "outputs": []
    },
    {
      "cell_type": "code",
      "source": [
        ""
      ],
      "metadata": {
        "id": "5KHzZSilZxIg"
      },
      "execution_count": null,
      "outputs": []
    },
    {
      "cell_type": "code",
      "source": [
        ""
      ],
      "metadata": {
        "id": "fG1wZSzyZw1b"
      },
      "execution_count": null,
      "outputs": []
    },
    {
      "cell_type": "code",
      "source": [
        ""
      ],
      "metadata": {
        "id": "qadKHA6Z8sCN"
      },
      "execution_count": null,
      "outputs": []
    }
  ]
}